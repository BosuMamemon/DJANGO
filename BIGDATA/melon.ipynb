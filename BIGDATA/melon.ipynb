{
 "cells": [
  {
   "metadata": {
    "ExecuteTime": {
     "end_time": "2025-06-27T00:33:59.422216Z",
     "start_time": "2025-06-27T00:33:58.728839Z"
    }
   },
   "cell_type": "code",
   "source": [
    "import requests\n",
    "from bs4 import BeautifulSoup"
   ],
   "id": "f2be7903b0003e5e",
   "outputs": [],
   "execution_count": 1
  },
  {
   "metadata": {
    "ExecuteTime": {
     "end_time": "2025-06-27T00:33:59.985184Z",
     "start_time": "2025-06-27T00:33:59.534089Z"
    }
   },
   "cell_type": "code",
   "source": [
    "url = 'https://www.melon.com/chart/index.htm'\n",
    "header = {'User-Agent': 'Mozilla/5.0'}\n",
    "\n",
    "req = requests.get(url, headers=header)\n",
    "soup = BeautifulSoup(req.text, 'html.parser')\n",
    "# 크롤링 가능 여부: 사이트/robots.txt"
   ],
   "id": "93548e58d4124be4",
   "outputs": [],
   "execution_count": 2
  },
  {
   "metadata": {
    "ExecuteTime": {
     "end_time": "2025-06-27T01:43:52.691759Z",
     "start_time": "2025-06-27T01:43:52.583675Z"
    }
   },
   "cell_type": "code",
   "source": [
    "# 1 ~ 50 순위 앨범 곡 정보\n",
    "tbody = soup.select_one('#frm > div > table > tbody')\n",
    "lst50 = tbody.select('tr.lst50')\n",
    "top50 = []\n",
    "for td in lst50:\n",
    "    rank = td.select_one('span.rank').get_text()\n",
    "    title = td.select_one('#lst50 > td:nth-child(6) > div > div > div.ellipsis.rank01 > span > a').get_text()\n",
    "    singer = td.select_one('#lst50 > td:nth-child(6) > div > div > div.ellipsis.rank02 > a').get_text()\n",
    "    album = td.select_one('#lst50 > td:nth-child(7) > div > div > div > a').get_text()\n",
    "    top50.append({\n",
    "        'rank': rank,\n",
    "        'title': title,\n",
    "        'singer': singer,\n",
    "        'album': album\n",
    "    })\n",
    "print(top50)"
   ],
   "id": "8fa82163fefd43c9",
   "outputs": [
    {
     "name": "stdout",
     "output_type": "stream",
     "text": [
      "[{'rank': '1', 'title': 'FAMOUS', 'singer': 'ALLDAY PROJECT', 'album': 'FAMOUS'}, {'rank': '2', 'title': '너에게 닿기를', 'singer': '10CM', 'album': '너에게 닿기를'}, {'rank': '3', 'title': '시작의 아이', 'singer': '마크툽 (MAKTUB)', 'album': '시작의 아이 ハジマリのコ (Starting With You)'}, {'rank': '4', 'title': 'Drowning', 'singer': 'WOODZ', 'album': 'OO-LI'}, {'rank': '5', 'title': 'Never Ending Story', 'singer': '아이유', 'album': '꽃갈피 셋'}, {'rank': '6', 'title': '모르시나요(PROD.로코베리)', 'singer': '조째즈', 'album': '모르시나요'}, {'rank': '7', 'title': '어제보다 슬픈 오늘', 'singer': '우디 (Woody)', 'album': '어제보다 슬픈 오늘'}, {'rank': '8', 'title': 'like JENNIE', 'singer': '제니 (JENNIE)', 'album': 'Ruby'}, {'rank': '9', 'title': 'Whiplash', 'singer': 'aespa', 'album': 'Whiplash - The 5th Mini Album'}, {'rank': '10', 'title': 'HOME SWEET HOME (feat. 태양, 대성)', 'singer': 'G-DRAGON', 'album': 'HOME SWEET HOME (feat. 태양, 대성)'}, {'rank': '11', 'title': '나는 반딧불', 'singer': '황가람', 'album': '나는 반딧불'}, {'rank': '12', 'title': '청춘만화', 'singer': '이무진', 'album': '만화 (滿花)'}, {'rank': '13', 'title': 'TOO BAD (feat. Anderson .Paak)', 'singer': 'G-DRAGON', 'album': 'Übermensch'}, {'rank': '14', 'title': 'HAPPY', 'singer': 'DAY6 (데이식스)', 'album': 'Fourever'}, {'rank': '15', 'title': '오늘만 I LOVE YOU', 'singer': 'BOYNEXTDOOR', 'album': '오늘만 I LOVE YOU'}, {'rank': '16', 'title': 'HANDS UP', 'singer': 'MEOVV (미야오)', 'album': 'MY EYES OPEN VVIDE'}, {'rank': '17', 'title': '눈물참기', 'singer': 'QWER', 'album': \"3rd Mini Album '난 네 편이야, 온 세상이 불협일지라도'\"}, {'rank': '18', 'title': 'REBEL HEART', 'singer': 'IVE (아이브)', 'album': 'IVE EMPATHY'}, {'rank': '19', 'title': 'Flower', 'singer': '오반(OVAN)', 'album': '교회오빠'}, {'rank': '20', 'title': 'THUNDER', 'singer': '세븐틴 (SEVENTEEN)', 'album': 'SEVENTEEN 5th Album ‘HAPPY BURSTDAY’'}, {'rank': '21', 'title': '네모의 꿈', 'singer': '아이유', 'album': '꽃갈피 셋'}, {'rank': '22', 'title': 'WICKED', 'singer': 'ALLDAY PROJECT', 'album': 'FAMOUS'}, {'rank': '23', 'title': 'APT.', 'singer': '로제 (ROSÉ)', 'album': 'APT.'}, {'rank': '24', 'title': '한 페이지가 될 수 있게', 'singer': 'DAY6 (데이식스)', 'album': 'The Book of Us : Gravity'}, {'rank': '25', 'title': '소나기', 'singer': '이클립스 (ECLIPSE)', 'album': '선재 업고 튀어 OST Part 1'}, {'rank': '26', 'title': '내게 사랑이 뭐냐고 물어본다면', 'singer': '로이킴', 'album': '내게 사랑이 뭐냐고 물어본다면'}, {'rank': '27', 'title': '천상연', 'singer': '이창섭', 'album': \"천상연 (웹툰 '선녀외전' X 이창섭 (LEE CHANGSUB))\"}, {'rank': '28', 'title': 'MY LOVE(2025)', 'singer': '이예은', 'album': 'MY LOVE(2025)'}, {'rank': '29', 'title': 'Welcome to the Show', 'singer': 'DAY6 (데이식스)', 'album': 'Fourever'}, {'rank': '30', 'title': 'HOT', 'singer': 'LE SSERAFIM (르세라핌)', 'album': 'HOT'}, {'rank': '31', 'title': 'Supernova', 'singer': 'aespa', 'album': 'Armageddon - The 1st Album'}, {'rank': '32', 'title': 'Die With A Smile', 'singer': 'Lady Gaga', 'album': 'Die With A Smile'}, {'rank': '33', 'title': '예뻤어', 'singer': 'DAY6 (데이식스)', 'album': 'Every DAY6 February'}, {'rank': '34', 'title': '어떻게 이별까지 사랑하겠어, 널 사랑하는 거지', 'singer': 'AKMU (악뮤)', 'album': '항해'}, {'rank': '35', 'title': '내 이름 맑음', 'singer': 'QWER', 'album': \"2nd Mini Album 'Algorithm's Blossom'\"}, {'rank': '36', 'title': 'toxic till the end', 'singer': '로제 (ROSÉ)', 'album': 'rosie'}, {'rank': '37', 'title': 'ATTITUDE', 'singer': 'IVE (아이브)', 'album': 'IVE EMPATHY'}, {'rank': '38', 'title': '고민중독', 'singer': 'QWER', 'album': \"1st Mini Album 'MANITO'\"}, {'rank': '39', 'title': '그대만 있다면 (여름날 우리 X 너드커넥션 (Nerd Connection))', 'singer': '너드커넥션 (Nerd Connection)', 'album': '그대만 있다면 (여름날 우리 X 너드커넥션 (Nerd Connection))'}, {'rank': '40', 'title': 'LIKE YOU BETTER', 'singer': '프로미스나인', 'album': \"From Our 20's\"}, {'rank': '41', 'title': '미치게 그리워서', 'singer': '황가람', 'album': '미치게 그리워서'}, {'rank': '42', 'title': '청혼하지 않을 이유를 못 찾았어', 'singer': '이무진', 'album': '청혼하지 않을 이유를 못 찾았어'}, {'rank': '43', 'title': '그날이 오면', 'singer': '투모로우바이투게더', 'album': '언젠가는 슬기로울 전공의생활 OST Part 9'}, {'rank': '44', 'title': 'I DO ME', 'singer': 'KiiiKiii (키키)', 'album': 'UNCUT GEM'}, {'rank': '45', 'title': '빌려온 고양이 (Do the Dance)', 'singer': '아일릿(ILLIT)', 'album': 'bomb'}, {'rank': '46', 'title': 'DRIP', 'singer': 'BABYMONSTER', 'album': 'DRIP'}, {'rank': '47', 'title': '사랑은 늘 도망가', 'singer': '임영웅', 'album': '신사와 아가씨 OST Part.2'}, {'rank': '48', 'title': 'Love wins all', 'singer': '아이유', 'album': 'The Winning'}, {'rank': '49', 'title': '첫 만남은 계획대로 되지 않아', 'singer': 'TWS (투어스)', 'album': 'TWS 1st Mini Album ‘Sparkling Blue’'}, {'rank': '50', 'title': '주저하는 연인들을 위해', 'singer': '잔나비', 'album': '전설'}]\n"
     ]
    }
   ],
   "execution_count": 34
  },
  {
   "metadata": {
    "ExecuteTime": {
     "end_time": "2025-06-27T01:44:14.391042Z",
     "start_time": "2025-06-27T01:44:14.384893Z"
    }
   },
   "cell_type": "code",
   "source": "print(top50[0].get('rank'))",
   "id": "5097d3abd3be51ce",
   "outputs": [
    {
     "name": "stdout",
     "output_type": "stream",
     "text": [
      "1\n"
     ]
    }
   ],
   "execution_count": 36
  }
 ],
 "metadata": {
  "kernelspec": {
   "name": "conda-base-py",
   "language": "python",
   "display_name": "Python [conda env:base] *"
  }
 },
 "nbformat": 4,
 "nbformat_minor": 5
}
