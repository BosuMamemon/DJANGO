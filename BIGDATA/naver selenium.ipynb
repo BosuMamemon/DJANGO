{
 "cells": [
  {
   "cell_type": "code",
   "id": "initial_id",
   "metadata": {
    "collapsed": true,
    "ExecuteTime": {
     "end_time": "2025-06-27T03:25:53.566722Z",
     "start_time": "2025-06-27T03:25:23.573381Z"
    }
   },
   "source": [
    "from selenium import webdriver\n",
    "from selenium.webdriver.common.by import By\n",
    "import pandas as pd"
   ],
   "outputs": [],
   "execution_count": 62
  },
  {
   "metadata": {
    "ExecuteTime": {
     "end_time": "2025-06-27T03:24:52.472902Z",
     "start_time": "2025-06-27T03:24:45.543580Z"
    }
   },
   "cell_type": "code",
   "source": [
    "driver = webdriver.Chrome()\n",
    "driver.get('https://m.entertain.naver.com/movie')\n",
    "driver.implicitly_wait(2)\n",
    "\n",
    "box_office = driver.find_element(\n",
    "    By.XPATH,\n",
    "    '//*[@id=\"feed-v2-renderer-root\"]/div/div/div[1]/div/div[2]/div/button[1]'\n",
    ")\n",
    "box_office.click()\n",
    "driver.implicitly_wait(2)\n",
    "\n",
    "more = driver.find_element(By.XPATH, '//*[@id=\"feed-v2-renderer-root\"]/div/div/div[1]/div/div[4]/button')\n",
    "more.click()\n",
    "driver.implicitly_wait(2)\n",
    "\n",
    "ranking_info = driver.find_elements(\n",
    "    By.XPATH,\n",
    "    '//*[@id=\"feed-v2-renderer-root\"]/div/div/div[1]/div/div[3]/ol/li'\n",
    ")\n",
    "movies = []\n",
    "for idx, li in enumerate(ranking_info):\n",
    "    buttons = li.find_elements(By.CLASS_NAME, 'Home_button_fold__elLFG')\n",
    "    for button in buttons:\n",
    "        button.click()\n",
    "        driver.implicitly_wait(2)\n",
    "        rank = idx + 1\n",
    "        title = li.find_element(By.XPATH, './/div/div[1]/a/div[2]').text\n",
    "        grade = float(li.find_element(By.XPATH, './/div/div[1]/a/div[3]/span[1]/span').text)\n",
    "        count = li.find_element(By.XPATH, './/div/div[1]/a/div[3]/span[2]').text\n",
    "        movies.append({'rank': rank, 'title': title, 'grade': grade, 'count': count})\n",
    "\n",
    "driver.quit()\n",
    "print(movies)"
   ],
   "id": "fc44cbb0b2e3d0c0",
   "outputs": [
    {
     "name": "stdout",
     "output_type": "stream",
     "text": [
      "[{'rank': 1, 'title': 'F1 더 무비', 'grade': 8.72, 'count': '누적 관객 13만명'}, {'rank': 2, 'title': '노이즈', 'grade': 7.51, 'count': '누적 관객 5만명'}, {'rank': 3, 'title': '드래곤 길들이기', 'grade': 9.28, 'count': '누적 관객 137만명'}, {'rank': 4, 'title': '하이파이브', 'grade': 8.63, 'count': '누적 관객 179만명'}, {'rank': 5, 'title': '엘리오', 'grade': 9.13, 'count': '누적 관객 31만명'}, {'rank': 6, 'title': '28년 후', 'grade': 6.89, 'count': '누적 관객 28만명'}, {'rank': 7, 'title': '미션 임파서블: 파이널 레코닝', 'grade': 9.02, 'count': '누적 관객 333만명'}, {'rank': 8, 'title': '무명 無名', 'grade': 9.71, 'count': '누적 관객 1만명'}, {'rank': 9, 'title': '신명', 'grade': 8.54, 'count': '누적 관객 73만명'}, {'rank': 10, 'title': '바람계곡의 나우시카', 'grade': 9.25, 'count': '누적 관객 1만명'}]\n"
     ]
    }
   ],
   "execution_count": 61
  },
  {
   "metadata": {
    "ExecuteTime": {
     "end_time": "2025-06-27T05:05:48.842856Z",
     "start_time": "2025-06-27T05:05:48.828566Z"
    }
   },
   "cell_type": "code",
   "source": [
    "df = pd.DataFrame(movies)\n",
    "df.to_csv('./movies.csv', encoding='utf-8')"
   ],
   "id": "753c7a17af184fb",
   "outputs": [],
   "execution_count": 68
  },
  {
   "metadata": {},
   "cell_type": "code",
   "outputs": [],
   "execution_count": null,
   "source": "",
   "id": "e2641762ad443bfe"
  }
 ],
 "metadata": {
  "kernelspec": {
   "display_name": "Python [conda env:base] *",
   "language": "python",
   "name": "conda-base-py"
  },
  "language_info": {
   "codemirror_mode": {
    "name": "ipython",
    "version": 2
   },
   "file_extension": ".py",
   "mimetype": "text/x-python",
   "name": "python",
   "nbconvert_exporter": "python",
   "pygments_lexer": "ipython2",
   "version": "2.7.6"
  }
 },
 "nbformat": 4,
 "nbformat_minor": 5
}
